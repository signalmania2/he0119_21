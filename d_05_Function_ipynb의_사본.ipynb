{
  "cells": [
    {
      "cell_type": "markdown",
      "metadata": {
        "id": "view-in-github",
        "colab_type": "text"
      },
      "source": [
        "<a href=\"https://colab.research.google.com/github/signalmania2/he0119_21/blob/main/d_05_Function_ipynb%EC%9D%98_%EC%82%AC%EB%B3%B8.ipynb\" target=\"_parent\"><img src=\"https://colab.research.google.com/assets/colab-badge.svg\" alt=\"Open In Colab\"/></a>"
      ]
    },
    {
      "cell_type": "markdown",
      "metadata": {
        "id": "--onGGyctAji"
      },
      "source": [
        "# 함수 사용\n",
        "\n",
        "- 데이터에 적용되는 다양한 함수 사용법을 다룬다\n",
        "- def, lambda, map, apply\n",
        "- (참고) \\*args, \\**kwargs, "
      ]
    },
    {
      "cell_type": "markdown",
      "metadata": {
        "id": "yxfb8N3WtAjn"
      },
      "source": [
        "## import"
      ]
    },
    {
      "cell_type": "code",
      "execution_count": 30,
      "metadata": {
        "id": "VLOi2ElatAjp"
      },
      "outputs": [],
      "source": [
        "import pandas as pd\n",
        "import numpy as np"
      ]
    },
    {
      "cell_type": "markdown",
      "metadata": {
        "id": "UrhyDrpPtAjr"
      },
      "source": [
        "# def \n",
        "- 반복 사용되는 작업은 함수로 만들어 두면 편리하게 다시 사용할 수 있다\n",
        "- 함수를 정의할 때 def를 사용한다\n",
        "- 함수를 호출할 때 인자를 넘겨줄 수 있다\n",
        "- 함수 실행 결과로 어떤 값을 받으려면 return 문을 사용한다"
      ]
    },
    {
      "cell_type": "markdown",
      "metadata": {
        "id": "QQgngvGptAjs"
      },
      "source": [
        "## 리턴 값이 없는 함수"
      ]
    },
    {
      "cell_type": "code",
      "execution_count": 1,
      "metadata": {
        "id": "rVwF7edVtAjs"
      },
      "outputs": [],
      "source": [
        "# 주어진 작업만 수행하는 함수\n",
        "def my_func(): \n",
        "    print(\"작업을 시작했습니다...\")\n",
        "    print(\"작업 종료!\")"
      ]
    },
    {
      "cell_type": "code",
      "execution_count": 2,
      "metadata": {
        "id": "dvUjKa5VtAjt",
        "outputId": "4f2e126d-6c2d-4c69-e771-73f898333d93",
        "colab": {
          "base_uri": "https://localhost:8080/"
        }
      },
      "outputs": [
        {
          "output_type": "stream",
          "name": "stdout",
          "text": [
            "작업을 시작했습니다...\n",
            "작업 종료!\n"
          ]
        }
      ],
      "source": [
        "# 함수 호출 \n",
        "my_func()"
      ]
    },
    {
      "cell_type": "markdown",
      "metadata": {
        "id": "FSEc-oEgtAju"
      },
      "source": [
        "## 리턴 값 정의\n",
        "- return을 사용하며, 임의의 형태의 묶음 데이터도 리턴할 수 있다"
      ]
    },
    {
      "cell_type": "code",
      "execution_count": 39,
      "metadata": {
        "id": "98TcURdItAjv",
        "outputId": "ad6efe4f-cd2c-4f22-8eb6-1b5a3b7bf04c",
        "colab": {
          "base_uri": "https://localhost:8080/"
        }
      },
      "outputs": [
        {
          "output_type": "execute_result",
          "data": {
            "text/plain": [
              "array([4, 3])"
            ]
          },
          "metadata": {},
          "execution_count": 39
        }
      ],
      "source": [
        "# 임의의 주사위 값 2개 리턴 (정수 어레이 리턴)\n",
        "def my_func(): \n",
        "    return np.random.randint(1,7,2)\n",
        "\n",
        "y = my_func()\n",
        "y"
      ]
    },
    {
      "cell_type": "markdown",
      "metadata": {
        "id": "3or_jfHjtAjw"
      },
      "source": [
        "### (연습) 랜덤 넘버 10개를 리턴하는 함수를 만드시오\n",
        "- (0~1) 사이의 값을 갖는 랜덤 넘버 생성"
      ]
    },
    {
      "cell_type": "code",
      "execution_count": 40,
      "metadata": {
        "scrolled": true,
        "id": "BERCxauwtAjw"
      },
      "outputs": [],
      "source": [
        "# (풀이)\n",
        "\n"
      ]
    },
    {
      "cell_type": "markdown",
      "metadata": {
        "id": "6r0r5dSctAjw"
      },
      "source": [
        "## 인자"
      ]
    },
    {
      "cell_type": "code",
      "execution_count": 41,
      "metadata": {
        "id": "JT5UnyTUtAjx",
        "outputId": "245a7435-940c-44d7-ac2c-ac9224fa99d3",
        "colab": {
          "base_uri": "https://localhost:8080/"
        }
      },
      "outputs": [
        {
          "output_type": "execute_result",
          "data": {
            "text/plain": [
              "123"
            ]
          },
          "metadata": {},
          "execution_count": 41
        }
      ],
      "source": [
        "# 인자가 있는 함수 정의\n",
        "def my_func(a,b,c): \n",
        "    return a*100 + b*10 + c\n",
        "\n",
        "y = my_func(1, 2, 3)\n",
        "y"
      ]
    },
    {
      "cell_type": "markdown",
      "metadata": {
        "id": "44VQyfGhtAjx"
      },
      "source": [
        "### 인자의 디폴트 값"
      ]
    },
    {
      "cell_type": "code",
      "execution_count": null,
      "metadata": {
        "id": "rR90hxHCtAjx"
      },
      "outputs": [],
      "source": [
        "# 인자의 디폴트 값을 지정하는 함수 정의\n",
        "def my_func(a=1,b=2,c=3): \n",
        "    return a*100 + b*10 + c"
      ]
    },
    {
      "cell_type": "code",
      "execution_count": null,
      "metadata": {
        "id": "7ciVbDOdtAjy"
      },
      "outputs": [],
      "source": [
        "# 다양한 함수 호출이 가능\n",
        "my_func()"
      ]
    },
    {
      "cell_type": "code",
      "execution_count": null,
      "metadata": {
        "id": "6CZV0ZcFtAjy"
      },
      "outputs": [],
      "source": [
        "my_func(b=2, c=1, a=3)"
      ]
    },
    {
      "cell_type": "code",
      "execution_count": null,
      "metadata": {
        "id": "9gEPhKLptAjy"
      },
      "outputs": [],
      "source": [
        "# 첫번째 인자만 지정\n",
        "my_func(5)"
      ]
    },
    {
      "cell_type": "code",
      "execution_count": null,
      "metadata": {
        "id": "cITiAB02tAjz"
      },
      "outputs": [],
      "source": [
        "# 두개의 인자만 지정\n",
        "my_func(7,8)"
      ]
    },
    {
      "cell_type": "code",
      "execution_count": 4,
      "metadata": {
        "id": "1GGuEEmvtAjz",
        "outputId": "93dade4c-fa07-497c-be69-ce0880a94da5",
        "colab": {
          "base_uri": "https://localhost:8080/",
          "height": 193
        }
      },
      "outputs": [
        {
          "output_type": "error",
          "ename": "TypeError",
          "evalue": "ignored",
          "traceback": [
            "\u001b[0;31m---------------------------------------------------------------------------\u001b[0m",
            "\u001b[0;31mTypeError\u001b[0m                                 Traceback (most recent call last)",
            "\u001b[0;32m<ipython-input-4-df509998cfba>\u001b[0m in \u001b[0;36m<module>\u001b[0;34m()\u001b[0m\n\u001b[1;32m      1\u001b[0m \u001b[0;31m# 일부 인자만 지정\u001b[0m\u001b[0;34m\u001b[0m\u001b[0;34m\u001b[0m\u001b[0;34m\u001b[0m\u001b[0m\n\u001b[0;32m----> 2\u001b[0;31m \u001b[0mmy_func\u001b[0m\u001b[0;34m(\u001b[0m\u001b[0mc\u001b[0m\u001b[0;34m=\u001b[0m\u001b[0;36m9\u001b[0m\u001b[0;34m)\u001b[0m\u001b[0;34m\u001b[0m\u001b[0;34m\u001b[0m\u001b[0m\n\u001b[0m",
            "\u001b[0;31mTypeError\u001b[0m: my_func() got an unexpected keyword argument 'c'"
          ]
        }
      ],
      "source": [
        "# 일부 인자만 지정\n",
        "my_func(c=9)"
      ]
    },
    {
      "cell_type": "markdown",
      "metadata": {
        "id": "uvu-41UjtAjz"
      },
      "source": [
        "### 디폴트 값이 일부만 지정된 경우\n",
        "- 주의: 디폴트 값이 없는 인자는 앞에 배치해야 한다\n",
        "- 디폴트 값이 없는 인자는 필수 입력 인자임"
      ]
    },
    {
      "cell_type": "code",
      "execution_count": 5,
      "metadata": {
        "id": "4CcOSNvltAjz",
        "outputId": "ecc02fce-70b5-477b-dc37-11788306aeb5",
        "colab": {
          "base_uri": "https://localhost:8080/"
        }
      },
      "outputs": [
        {
          "output_type": "execute_result",
          "data": {
            "text/plain": [
              "257"
            ]
          },
          "metadata": {},
          "execution_count": 5
        }
      ],
      "source": [
        "def my_func(a,b=5,c=7): \n",
        "    return a*100 + b*10 + c\n",
        "\n",
        "my_func(a=2)"
      ]
    },
    {
      "cell_type": "code",
      "execution_count": 6,
      "metadata": {
        "id": "lQ7f6Sw8tAj0",
        "outputId": "fddc07fa-7e81-4da4-c9f4-3207d2ce7f89",
        "colab": {
          "base_uri": "https://localhost:8080/"
        }
      },
      "outputs": [
        {
          "output_type": "execute_result",
          "data": {
            "text/plain": [
              "257"
            ]
          },
          "metadata": {},
          "execution_count": 6
        }
      ],
      "source": [
        "my_func(2)"
      ]
    },
    {
      "cell_type": "code",
      "execution_count": 7,
      "metadata": {
        "id": "RonMe1lDtAj0",
        "outputId": "492b3dc6-a12e-40cb-d6bb-9e0c6c0ec6f3",
        "colab": {
          "base_uri": "https://localhost:8080/"
        }
      },
      "outputs": [
        {
          "output_type": "execute_result",
          "data": {
            "text/plain": [
              "267"
            ]
          },
          "metadata": {},
          "execution_count": 7
        }
      ],
      "source": [
        "my_func(2,6)"
      ]
    },
    {
      "cell_type": "markdown",
      "metadata": {
        "id": "7vl12WratAj0"
      },
      "source": [
        "### (연습) 같은 길이의 배열을 두개 입력하면 각 항목별 자승의 합을 구하는 함수를 만드시오\n",
        "- 5개 길이의 어레이를 두개 만들어 입력으로 사용한다"
      ]
    },
    {
      "cell_type": "code",
      "execution_count": 8,
      "metadata": {
        "id": "NyNMrqbPtAj0"
      },
      "outputs": [],
      "source": [
        "# (풀이)\n",
        "\n"
      ]
    },
    {
      "cell_type": "markdown",
      "metadata": {
        "id": "VYXoi9R1tAj0"
      },
      "source": [
        "### 함수 내부변수\n",
        "- 함수 정의 내부에서 사용한 변수는 임시변수로서 외부에서는 접근이 안된다\n",
        "- 아래에서 p나 q는 함수 정의 외부에서 읽을 수 없다"
      ]
    },
    {
      "cell_type": "code",
      "execution_count": 9,
      "metadata": {
        "id": "EgYU7TsctAj1",
        "outputId": "8a79698b-c205-4ef7-8477-3dad2a86d2ac",
        "colab": {
          "base_uri": "https://localhost:8080/"
        }
      },
      "outputs": [
        {
          "output_type": "execute_result",
          "data": {
            "text/plain": [
              "19"
            ]
          },
          "metadata": {},
          "execution_count": 9
        }
      ],
      "source": [
        "# 입력변수 자승의 합과, 곱의 합을 리턴하는 함수 (a^2 + b^2 + ab)\n",
        "def my_func(a,b): \n",
        "    p = a*a + b*b\n",
        "    q = a*b\n",
        "    return p + q\n",
        "\n",
        "my_func(2, 3)\n",
        "\n",
        "# print(p) # 오류가 발생한다!"
      ]
    },
    {
      "cell_type": "markdown",
      "metadata": {
        "id": "1ZJOHO3htAj1"
      },
      "source": [
        "### (연습) 함수 내부 변수를 함수 밖에서 접근하는 방법은? 위에서 p,q를 접근하는 방법은?"
      ]
    },
    {
      "cell_type": "code",
      "execution_count": 10,
      "metadata": {
        "id": "r8PZ8pmDtAj1"
      },
      "outputs": [],
      "source": [
        "# (풀이)\n",
        "\n"
      ]
    },
    {
      "cell_type": "markdown",
      "metadata": {
        "id": "Spowuws8tAj1"
      },
      "source": [
        "# 편리한 함수 사용법\n",
        "\n",
        "- lambda, map, apply"
      ]
    },
    {
      "cell_type": "markdown",
      "metadata": {
        "id": "QgC1Iep9tAj1"
      },
      "source": [
        "## lambda, 익명 함수 정의\n",
        "- def, return을 사용하지 않고 간단히 함수를 정의할 수 있다"
      ]
    },
    {
      "cell_type": "code",
      "execution_count": 11,
      "metadata": {
        "id": "fxuRQS0ZtAj1",
        "outputId": "929f02f4-634a-47bb-8427-ebba76670492",
        "colab": {
          "base_uri": "https://localhost:8080/"
        }
      },
      "outputs": [
        {
          "output_type": "execute_result",
          "data": {
            "text/plain": [
              "40"
            ]
          },
          "metadata": {},
          "execution_count": 11
        }
      ],
      "source": [
        "# 일반적인 함수 정의 방법\n",
        "def my_f(x):\n",
        "    return x*10\n",
        "\n",
        "my_f(4)"
      ]
    },
    {
      "cell_type": "code",
      "execution_count": 12,
      "metadata": {
        "id": "Z35GVpJXtAj2",
        "outputId": "c75ccb2a-b1d4-4e68-ade1-d25cce362fe5",
        "colab": {
          "base_uri": "https://localhost:8080/"
        }
      },
      "outputs": [
        {
          "output_type": "execute_result",
          "data": {
            "text/plain": [
              "40"
            ]
          },
          "metadata": {},
          "execution_count": 12
        }
      ],
      "source": [
        "# def, return을 사용하지 않는 방법\n",
        "my_f = lambda x: x*10\n",
        "\n",
        "my_f(4)"
      ]
    },
    {
      "cell_type": "markdown",
      "metadata": {
        "id": "lbswMHAWtAj2"
      },
      "source": [
        "## map, 리스트에 함수 적용하기\n",
        "\n",
        "- map의 첫번째 인자에는 함수를, 두번째 인자에는 데이터를 넣는다\n",
        "- 리스트 외에도 튜플, 배열에 대해서도 사용할 수 있다\n",
        "- 별도로 함수를 정의하지 않고 lambda를 사용하여 함수 내용만 정의할 수 있다"
      ]
    },
    {
      "cell_type": "code",
      "execution_count": 13,
      "metadata": {
        "id": "pUkwd7h3tAj2",
        "outputId": "671438fc-be78-4b6f-c6db-0f8386afbfa6",
        "colab": {
          "base_uri": "https://localhost:8080/"
        }
      },
      "outputs": [
        {
          "output_type": "execute_result",
          "data": {
            "text/plain": [
              "[10, 20, 30, 40]"
            ]
          },
          "metadata": {},
          "execution_count": 13
        }
      ],
      "source": [
        "# 이미 정의된 함수명을 사용하는 경우\n",
        "x = [1,2,3,4]\n",
        "list(map(my_f, x))"
      ]
    },
    {
      "cell_type": "code",
      "execution_count": 14,
      "metadata": {
        "id": "weMYI_ZytAj3",
        "outputId": "14ad3e8b-e287-4a6d-d7ef-2ac9e26a495e",
        "colab": {
          "base_uri": "https://localhost:8080/"
        }
      },
      "outputs": [
        {
          "output_type": "execute_result",
          "data": {
            "text/plain": [
              "[10, 20, 30, 40]"
            ]
          },
          "metadata": {},
          "execution_count": 14
        }
      ],
      "source": [
        "# 튜플도 사용할 수 있다\n",
        "x = (1,2,3,4)\n",
        "list(map(my_f, x))"
      ]
    },
    {
      "cell_type": "code",
      "execution_count": 15,
      "metadata": {
        "id": "dFeLmnE2tAj3",
        "outputId": "ecd7910f-89dc-4224-c10d-8e86ebd6af3b",
        "colab": {
          "base_uri": "https://localhost:8080/",
          "height": 211
        }
      },
      "outputs": [
        {
          "output_type": "error",
          "ename": "NameError",
          "evalue": "ignored",
          "traceback": [
            "\u001b[0;31m---------------------------------------------------------------------------\u001b[0m",
            "\u001b[0;31mNameError\u001b[0m                                 Traceback (most recent call last)",
            "\u001b[0;32m<ipython-input-15-e075e484d20e>\u001b[0m in \u001b[0;36m<module>\u001b[0;34m()\u001b[0m\n\u001b[1;32m      1\u001b[0m \u001b[0;31m# 배열도 사용할 수 있다\u001b[0m\u001b[0;34m\u001b[0m\u001b[0;34m\u001b[0m\u001b[0;34m\u001b[0m\u001b[0m\n\u001b[0;32m----> 2\u001b[0;31m \u001b[0my\u001b[0m \u001b[0;34m=\u001b[0m \u001b[0mnp\u001b[0m\u001b[0;34m.\u001b[0m\u001b[0marray\u001b[0m\u001b[0;34m(\u001b[0m\u001b[0mx\u001b[0m\u001b[0;34m)\u001b[0m\u001b[0;34m\u001b[0m\u001b[0;34m\u001b[0m\u001b[0m\n\u001b[0m\u001b[1;32m      3\u001b[0m \u001b[0mlist\u001b[0m\u001b[0;34m(\u001b[0m\u001b[0mmap\u001b[0m\u001b[0;34m(\u001b[0m\u001b[0mmy_f\u001b[0m\u001b[0;34m,\u001b[0m \u001b[0my\u001b[0m\u001b[0;34m)\u001b[0m\u001b[0;34m)\u001b[0m\u001b[0;34m\u001b[0m\u001b[0;34m\u001b[0m\u001b[0m\n",
            "\u001b[0;31mNameError\u001b[0m: name 'np' is not defined"
          ]
        }
      ],
      "source": [
        "# 배열도 사용할 수 있다\n",
        "y = np.array(x)\n",
        "list(map(my_f, y))"
      ]
    },
    {
      "cell_type": "code",
      "execution_count": 19,
      "metadata": {
        "id": "fFacD_ObtAj4",
        "outputId": "e8a2a8d4-15b4-4083-ab51-42055f82b6fb",
        "colab": {
          "base_uri": "https://localhost:8080/"
        }
      },
      "outputs": [
        {
          "output_type": "execute_result",
          "data": {
            "text/plain": [
              "[10, 20, 30, 40]"
            ]
          },
          "metadata": {},
          "execution_count": 19
        }
      ],
      "source": [
        "# lambda를 사용하는 방법 (익명 함수)\n",
        "list(map(lambda i: i*10, x))"
      ]
    },
    {
      "cell_type": "code",
      "execution_count": 20,
      "metadata": {
        "id": "-8gH2RvetAj4",
        "outputId": "68c5f2fb-4212-42ea-bc51-4655a48f70b9",
        "colab": {
          "base_uri": "https://localhost:8080/"
        }
      },
      "outputs": [
        {
          "output_type": "execute_result",
          "data": {
            "text/plain": [
              "[10, 20, 30, 40]"
            ]
          },
          "metadata": {},
          "execution_count": 20
        }
      ],
      "source": [
        "# (참고) 위와 같은 리스트 생성은 다른 방법으로도 가능하다\n",
        "[i*10 for i in x]"
      ]
    },
    {
      "cell_type": "markdown",
      "metadata": {
        "id": "SiBilg1ftAj5"
      },
      "source": [
        "### (연습) 숫자 리스트를 받으면 문자열 리스트로 바꾸는 함수를 만드시오\n",
        "- (힌트) 숫자를 문자열로 바꾸려면 str() 함수를 사용한다"
      ]
    },
    {
      "cell_type": "code",
      "execution_count": 23,
      "metadata": {
        "id": "BGTOSNkAtAj5",
        "colab": {
          "base_uri": "https://localhost:8080/"
        },
        "outputId": "bf5ceab3-e257-4496-e810-25976315ee70"
      },
      "outputs": [
        {
          "output_type": "execute_result",
          "data": {
            "text/plain": [
              "['1', '2', '3', '4', '5']"
            ]
          },
          "metadata": {},
          "execution_count": 23
        }
      ],
      "source": [
        "# (풀이)  3숫자 -> '3' 문자료 변경\n",
        "#[1,2,3,4,5]가 들어오면 ['1', '2', '3', '4', '5']와 같이 문자로 바꾸는것을 해보자..\n",
        "x = [1,2,3,4,5]\n",
        "list(map(lambda i: str(i), x))\n"
      ]
    },
    {
      "cell_type": "markdown",
      "metadata": {
        "id": "W4lz3HNHtAj5"
      },
      "source": [
        "## apply, 시리즈나 데이터프레임에 함수 적용\n",
        "\n",
        "- apply는 리스트, 튜플, 배열에는 사용할 수 없다"
      ]
    },
    {
      "cell_type": "code",
      "execution_count": 31,
      "metadata": {
        "id": "-JbqQcvMtAj5",
        "outputId": "5a4c3612-3d7b-4c6c-d222-d04b4deea5d6",
        "colab": {
          "base_uri": "https://localhost:8080/",
          "height": 238
        }
      },
      "outputs": [
        {
          "output_type": "execute_result",
          "data": {
            "text/html": [
              "\n",
              "  <div id=\"df-cdc6a16a-9498-45f3-85cc-d444fabe0826\">\n",
              "    <div class=\"colab-df-container\">\n",
              "      <div>\n",
              "<style scoped>\n",
              "    .dataframe tbody tr th:only-of-type {\n",
              "        vertical-align: middle;\n",
              "    }\n",
              "\n",
              "    .dataframe tbody tr th {\n",
              "        vertical-align: top;\n",
              "    }\n",
              "\n",
              "    .dataframe thead th {\n",
              "        text-align: right;\n",
              "    }\n",
              "</style>\n",
              "<table border=\"1\" class=\"dataframe\">\n",
              "  <thead>\n",
              "    <tr style=\"text-align: right;\">\n",
              "      <th></th>\n",
              "      <th>population</th>\n",
              "      <th>temp</th>\n",
              "    </tr>\n",
              "    <tr>\n",
              "      <th>city</th>\n",
              "      <th></th>\n",
              "      <th></th>\n",
              "    </tr>\n",
              "  </thead>\n",
              "  <tbody>\n",
              "    <tr>\n",
              "      <th>서울</th>\n",
              "      <td>990</td>\n",
              "      <td>13</td>\n",
              "    </tr>\n",
              "    <tr>\n",
              "      <th>부산</th>\n",
              "      <td>350</td>\n",
              "      <td>16</td>\n",
              "    </tr>\n",
              "    <tr>\n",
              "      <th>대구</th>\n",
              "      <td>250</td>\n",
              "      <td>14</td>\n",
              "    </tr>\n",
              "    <tr>\n",
              "      <th>대전</th>\n",
              "      <td>154</td>\n",
              "      <td>13</td>\n",
              "    </tr>\n",
              "    <tr>\n",
              "      <th>광주</th>\n",
              "      <td>150</td>\n",
              "      <td>15</td>\n",
              "    </tr>\n",
              "  </tbody>\n",
              "</table>\n",
              "</div>\n",
              "      <button class=\"colab-df-convert\" onclick=\"convertToInteractive('df-cdc6a16a-9498-45f3-85cc-d444fabe0826')\"\n",
              "              title=\"Convert this dataframe to an interactive table.\"\n",
              "              style=\"display:none;\">\n",
              "        \n",
              "  <svg xmlns=\"http://www.w3.org/2000/svg\" height=\"24px\"viewBox=\"0 0 24 24\"\n",
              "       width=\"24px\">\n",
              "    <path d=\"M0 0h24v24H0V0z\" fill=\"none\"/>\n",
              "    <path d=\"M18.56 5.44l.94 2.06.94-2.06 2.06-.94-2.06-.94-.94-2.06-.94 2.06-2.06.94zm-11 1L8.5 8.5l.94-2.06 2.06-.94-2.06-.94L8.5 2.5l-.94 2.06-2.06.94zm10 10l.94 2.06.94-2.06 2.06-.94-2.06-.94-.94-2.06-.94 2.06-2.06.94z\"/><path d=\"M17.41 7.96l-1.37-1.37c-.4-.4-.92-.59-1.43-.59-.52 0-1.04.2-1.43.59L10.3 9.45l-7.72 7.72c-.78.78-.78 2.05 0 2.83L4 21.41c.39.39.9.59 1.41.59.51 0 1.02-.2 1.41-.59l7.78-7.78 2.81-2.81c.8-.78.8-2.07 0-2.86zM5.41 20L4 18.59l7.72-7.72 1.47 1.35L5.41 20z\"/>\n",
              "  </svg>\n",
              "      </button>\n",
              "      \n",
              "  <style>\n",
              "    .colab-df-container {\n",
              "      display:flex;\n",
              "      flex-wrap:wrap;\n",
              "      gap: 12px;\n",
              "    }\n",
              "\n",
              "    .colab-df-convert {\n",
              "      background-color: #E8F0FE;\n",
              "      border: none;\n",
              "      border-radius: 50%;\n",
              "      cursor: pointer;\n",
              "      display: none;\n",
              "      fill: #1967D2;\n",
              "      height: 32px;\n",
              "      padding: 0 0 0 0;\n",
              "      width: 32px;\n",
              "    }\n",
              "\n",
              "    .colab-df-convert:hover {\n",
              "      background-color: #E2EBFA;\n",
              "      box-shadow: 0px 1px 2px rgba(60, 64, 67, 0.3), 0px 1px 3px 1px rgba(60, 64, 67, 0.15);\n",
              "      fill: #174EA6;\n",
              "    }\n",
              "\n",
              "    [theme=dark] .colab-df-convert {\n",
              "      background-color: #3B4455;\n",
              "      fill: #D2E3FC;\n",
              "    }\n",
              "\n",
              "    [theme=dark] .colab-df-convert:hover {\n",
              "      background-color: #434B5C;\n",
              "      box-shadow: 0px 1px 3px 1px rgba(0, 0, 0, 0.15);\n",
              "      filter: drop-shadow(0px 1px 2px rgba(0, 0, 0, 0.3));\n",
              "      fill: #FFFFFF;\n",
              "    }\n",
              "  </style>\n",
              "\n",
              "      <script>\n",
              "        const buttonEl =\n",
              "          document.querySelector('#df-cdc6a16a-9498-45f3-85cc-d444fabe0826 button.colab-df-convert');\n",
              "        buttonEl.style.display =\n",
              "          google.colab.kernel.accessAllowed ? 'block' : 'none';\n",
              "\n",
              "        async function convertToInteractive(key) {\n",
              "          const element = document.querySelector('#df-cdc6a16a-9498-45f3-85cc-d444fabe0826');\n",
              "          const dataTable =\n",
              "            await google.colab.kernel.invokeFunction('convertToInteractive',\n",
              "                                                     [key], {});\n",
              "          if (!dataTable) return;\n",
              "\n",
              "          const docLinkHtml = 'Like what you see? Visit the ' +\n",
              "            '<a target=\"_blank\" href=https://colab.research.google.com/notebooks/data_table.ipynb>data table notebook</a>'\n",
              "            + ' to learn more about interactive tables.';\n",
              "          element.innerHTML = '';\n",
              "          dataTable['output_type'] = 'display_data';\n",
              "          await google.colab.output.renderOutput(dataTable, element);\n",
              "          const docLink = document.createElement('div');\n",
              "          docLink.innerHTML = docLinkHtml;\n",
              "          element.appendChild(docLink);\n",
              "        }\n",
              "      </script>\n",
              "    </div>\n",
              "  </div>\n",
              "  "
            ],
            "text/plain": [
              "      population  temp\n",
              "city                  \n",
              "서울           990    13\n",
              "부산           350    16\n",
              "대구           250    14\n",
              "대전           154    13\n",
              "광주           150    15"
            ]
          },
          "metadata": {},
          "execution_count": 31
        }
      ],
      "source": [
        "x = {'city': ['서울', '부산', '대구', '대전', '광주'],\n",
        "        'population': [990, 350, 250, 154, 150],\n",
        "        'temp': [13, 16, 14, 13, 15]}\n",
        "\n",
        "data = pd.DataFrame(x).set_index('city')\n",
        "data"
      ]
    },
    {
      "cell_type": "code",
      "execution_count": 32,
      "metadata": {
        "id": "Lq2m0Wu_tAj5",
        "outputId": "f481ab57-7b33-4a33-ecea-56c3f622286d",
        "colab": {
          "base_uri": "https://localhost:8080/"
        }
      },
      "outputs": [
        {
          "output_type": "execute_result",
          "data": {
            "text/plain": [
              "population    990\n",
              "temp           16\n",
              "dtype: int64"
            ]
          },
          "metadata": {},
          "execution_count": 32
        }
      ],
      "source": [
        "# 컬럼(시리즈)에 대해서 최대값을 찾기\n",
        "data[[\"population\",\"temp\"]].apply(lambda x: x.max())"
      ]
    },
    {
      "cell_type": "code",
      "execution_count": 37,
      "metadata": {
        "id": "OFYtjjSXtAj6",
        "outputId": "8f7d4a7e-624f-475a-a0a6-675e8f33d83e",
        "colab": {
          "base_uri": "https://localhost:8080/"
        }
      },
      "outputs": [
        {
          "output_type": "execute_result",
          "data": {
            "text/plain": [
              "population    378.8\n",
              "temp           14.2\n",
              "dtype: float64"
            ]
          },
          "metadata": {},
          "execution_count": 37
        }
      ],
      "source": [
        "# 컬럼(시리즈)의 평균값 구하기\n",
        "data[[\"population\",\"temp\"]].apply(lambda x: x.mean())"
      ]
    },
    {
      "cell_type": "markdown",
      "metadata": {
        "id": "7GpWI_lTtAj6"
      },
      "source": [
        "- 데이터프레임 전체에 함수 적용하기"
      ]
    },
    {
      "cell_type": "code",
      "execution_count": 38,
      "metadata": {
        "id": "kzSMcCNbtAj6",
        "outputId": "e1f873cb-c2b8-4436-da7a-ac427294918d",
        "colab": {
          "base_uri": "https://localhost:8080/"
        }
      },
      "outputs": [
        {
          "output_type": "execute_result",
          "data": {
            "text/plain": [
              "population    378.8\n",
              "temp           14.2\n",
              "dtype: float64"
            ]
          },
          "metadata": {},
          "execution_count": 38
        }
      ],
      "source": [
        "data.apply(lambda x: x.mean())  # df안에 모은것에 대해 숫자로된게 있으면 평균을 내서 보여준다..jms"
      ]
    },
    {
      "cell_type": "markdown",
      "metadata": {
        "id": "rbzMEGhltAj6"
      },
      "source": [
        "### (연습) 모든 도시의 자동차수, 기온의 최대값과 최소값의 차이를 구하시오"
      ]
    },
    {
      "cell_type": "code",
      "execution_count": 44,
      "metadata": {
        "scrolled": true,
        "id": "fA_prjSBtAj7",
        "colab": {
          "base_uri": "https://localhost:8080/"
        },
        "outputId": "ce8df660-5e18-4569-a78b-1b342b57c999"
      },
      "outputs": [
        {
          "output_type": "execute_result",
          "data": {
            "text/plain": [
              "population    840\n",
              "temp            3\n",
              "dtype: int64"
            ]
          },
          "metadata": {},
          "execution_count": 44
        }
      ],
      "source": [
        "# (풀이)\n",
        "data.apply(lambda x: x.max()-x.min())\n"
      ]
    },
    {
      "cell_type": "markdown",
      "metadata": {
        "id": "2K61-jIOtAj7"
      },
      "source": [
        "# 참고 \\*args, \\**kwargs\n",
        "\n",
        "## 임의의 길이의 리스트 인자 사용\n",
        "- 인자로 임의의 길이의 리스트나 튜플을 사용할 수 있다\n",
        "- 이를 명시하기 위해서 리스트형 인자명 앞에 * 를 붙인다"
      ]
    },
    {
      "cell_type": "code",
      "execution_count": 36,
      "metadata": {
        "id": "p26Ri1sItAj7"
      },
      "outputs": [],
      "source": [
        "def my_f(*args):\n",
        "   for i in args: \n",
        "        print(i)"
      ]
    },
    {
      "cell_type": "code",
      "execution_count": null,
      "metadata": {
        "id": "6TCIwYlNtAj7",
        "outputId": "50677856-123d-4eee-8f38-c0440c7f622f"
      },
      "outputs": [
        {
          "name": "stdout",
          "output_type": "stream",
          "text": [
            "1\n",
            "2\n",
            "3\n"
          ]
        }
      ],
      "source": [
        "x = (1,2,3)\n",
        "my_f(*x)"
      ]
    },
    {
      "cell_type": "code",
      "execution_count": null,
      "metadata": {
        "id": "YTU39QZ7tAj7",
        "outputId": "7452dd7b-2231-494b-c381-7324127bbac7"
      },
      "outputs": [
        {
          "name": "stdout",
          "output_type": "stream",
          "text": [
            "1\n",
            "2\n",
            "3\n",
            "4\n",
            "5\n"
          ]
        }
      ],
      "source": [
        "x = [1,2,3,4,5]\n",
        "my_f(*x)"
      ]
    },
    {
      "cell_type": "markdown",
      "metadata": {
        "id": "ApyrXwVttAj8"
      },
      "source": [
        "## 딕셔너리를 사용해 인자의 이름도 지정\n",
        "- 임의의 갯수의 인자 이름을 넘겨줄 수 있다\n",
        "- 이를 위해 딕셔너리를 사용한다 (키에 인자명, 값에 인자 값을 지정)\n",
        "- 이를 명시하기 위해서 인자명 앞에 \\**를 붙인다"
      ]
    },
    {
      "cell_type": "code",
      "execution_count": null,
      "metadata": {
        "id": "UMYOBViztAj8"
      },
      "outputs": [],
      "source": [
        "def my_f(**kwargs):\n",
        "    print(\"인자 갯수:\", len(kwargs))\n",
        "    print(\"인자 이름:\", list(kwargs.keys()))\n",
        "    print(\"인자 값:\", list(kwargs.values()))\n",
        "    # 인자를 사용한 작업 수행"
      ]
    },
    {
      "cell_type": "code",
      "execution_count": null,
      "metadata": {
        "id": "_WE8mdbItAj8",
        "outputId": "ac3a4334-9723-47b1-9f27-8d94b3fedef7"
      },
      "outputs": [
        {
          "name": "stdout",
          "output_type": "stream",
          "text": [
            "인자 갯수: 3\n",
            "인자 이름: ['a', 'b', 'c']\n",
            "인자 값: [1, 2, 3]\n"
          ]
        }
      ],
      "source": [
        "dic = {'a':1, 'b':2, 'c':3}\n",
        "my_f(**dic)"
      ]
    },
    {
      "cell_type": "markdown",
      "metadata": {
        "id": "nfPBR2WDtAj8"
      },
      "source": [
        "# 정답"
      ]
    },
    {
      "cell_type": "markdown",
      "metadata": {
        "id": "B4VWW3BvtAj8"
      },
      "source": [
        "### (연습) 랜덤 넘버 10개를 리턴하는 함수를 만드시오\n",
        "- (0~1) 사이의 값을 갖는 랜덤 넘버 생성"
      ]
    },
    {
      "cell_type": "code",
      "execution_count": null,
      "metadata": {
        "scrolled": true,
        "id": "RVyu0GgftAj8",
        "outputId": "4cc784c4-b651-4838-9f4c-1824ffc574e8"
      },
      "outputs": [
        {
          "data": {
            "text/plain": [
              "array([0.27735973, 0.18621162, 0.91329298, 0.89713478, 0.63400016,\n",
              "       0.36762895, 0.70580835, 0.65833767, 0.68639758, 0.99806999])"
            ]
          },
          "execution_count": 36,
          "metadata": {},
          "output_type": "execute_result"
        }
      ],
      "source": [
        "def rand_n(): \n",
        "    return np.random.rand(10)\n",
        "rand_n()"
      ]
    },
    {
      "cell_type": "markdown",
      "metadata": {
        "id": "jcStpaiwtAj9"
      },
      "source": [
        "### (연습) 같은 길이의 배열을 두개 입력하면 각 항목별 자승의 합을 구하는 함수를 만드시오\n",
        "- 5개 길이의 어레이를 두개 만들어 입력으로 사용한다"
      ]
    },
    {
      "cell_type": "code",
      "execution_count": null,
      "metadata": {
        "id": "To9UyHoWtAj9",
        "outputId": "e09e91f6-2dd4-432c-a369-b34ec8921fbf"
      },
      "outputs": [
        {
          "name": "stdout",
          "output_type": "stream",
          "text": [
            "입력:  [0 1 2 3 4] [10 11 12 13 14]\n"
          ]
        },
        {
          "data": {
            "text/plain": [
              "array([100, 122, 148, 178, 212])"
            ]
          },
          "execution_count": 41,
          "metadata": {},
          "output_type": "execute_result"
        }
      ],
      "source": [
        "def sum_2(a,b):\n",
        "    return a*a + b*b\n",
        "\n",
        "x1 = np.arange(5)\n",
        "x2 = np.arange(10, 15)\n",
        "print('입력: ',x1, x2)\n",
        "\n",
        "sum_2(x1, x2)"
      ]
    },
    {
      "cell_type": "markdown",
      "metadata": {
        "id": "w8afQ-CLtAj9"
      },
      "source": [
        "### (연습) 함수 내부 변수를 함수 밖에서 접근하는 방법은? 위에서 p,q를 접근하는 방법은?"
      ]
    },
    {
      "cell_type": "code",
      "execution_count": null,
      "metadata": {
        "id": "jC03d-WTtAj9",
        "outputId": "228f5856-830d-40a7-ca7a-63e3831bca1a"
      },
      "outputs": [
        {
          "data": {
            "text/plain": [
              "(13, 6, 19)"
            ]
          },
          "execution_count": 48,
          "metadata": {},
          "output_type": "execute_result"
        }
      ],
      "source": [
        "# 아래와 같이 return 문에 포함하면 된다\n",
        "def my_func(a,b): \n",
        "    p = a*a + b*b\n",
        "    q = a*b\n",
        "    return p, q, (p + q)\n",
        "\n",
        "p, q, pq_sum = my_func(2, 3)\n",
        "p, q, pq_sum"
      ]
    },
    {
      "cell_type": "markdown",
      "metadata": {
        "id": "gyQ8j1CTtAj-"
      },
      "source": [
        "### (연습) 숫자 리스트를 받으면 문자열 리스트로 바꾸는 함수를 만드시오\n",
        "- (힌트) 숫자를 문자열로 바꾸려면 str() 함수를 사용한다"
      ]
    },
    {
      "cell_type": "code",
      "execution_count": null,
      "metadata": {
        "id": "llXhHjxztAj-",
        "outputId": "fb186e1d-e571-4453-a291-28354b9f66b6"
      },
      "outputs": [
        {
          "data": {
            "text/plain": [
              "['1', '2', '3', '4', '5']"
            ]
          },
          "execution_count": 57,
          "metadata": {},
          "output_type": "execute_result"
        }
      ],
      "source": [
        "list(map(lambda i: str(i), x))"
      ]
    },
    {
      "cell_type": "markdown",
      "metadata": {
        "id": "5BCeaNYatAj-"
      },
      "source": [
        "### (연습) 모든 도시의 자동차수, 기온의 최대값과 최소값의 차이를 구하시오"
      ]
    },
    {
      "cell_type": "code",
      "execution_count": 43,
      "metadata": {
        "scrolled": true,
        "id": "7vdLo5uwtAj-",
        "outputId": "475556ae-04bd-4ce7-cb6d-497c936c70c0",
        "colab": {
          "base_uri": "https://localhost:8080/"
        }
      },
      "outputs": [
        {
          "output_type": "execute_result",
          "data": {
            "text/plain": [
              "population    840\n",
              "temp            3\n",
              "dtype: int64"
            ]
          },
          "metadata": {},
          "execution_count": 43
        }
      ],
      "source": [
        "data.apply(lambda x: x.max()-x.min())"
      ]
    }
  ],
  "metadata": {
    "kernelspec": {
      "display_name": "Python 3",
      "language": "python",
      "name": "python3"
    },
    "language_info": {
      "codemirror_mode": {
        "name": "ipython",
        "version": 3
      },
      "file_extension": ".py",
      "mimetype": "text/x-python",
      "name": "python",
      "nbconvert_exporter": "python",
      "pygments_lexer": "ipython3",
      "version": "3.8.8"
    },
    "toc": {
      "base_numbering": 1,
      "nav_menu": {},
      "number_sections": false,
      "sideBar": true,
      "skip_h1_title": false,
      "title_cell": "Table of Contents",
      "title_sidebar": "Contents",
      "toc_cell": false,
      "toc_position": {
        "height": "calc(100% - 180px)",
        "left": "10px",
        "top": "150px",
        "width": "209.65px"
      },
      "toc_section_display": true,
      "toc_window_display": true
    },
    "colab": {
      "name": "d_05_Function.ipynb의 사본",
      "provenance": [],
      "include_colab_link": true
    }
  },
  "nbformat": 4,
  "nbformat_minor": 0
}